{
 "cells": [
  {
   "cell_type": "markdown",
   "id": "68fad3c7",
   "metadata": {},
   "source": [
    " # D.S. python assignment"
   ]
  },
  {
   "cell_type": "raw",
   "id": "9ff5d328",
   "metadata": {},
   "source": [
    "Q.1)  which keywords is used to create a function? create a function to return a list of odd numbers in the range of 1 to 25."
   ]
  },
  {
   "cell_type": "code",
   "execution_count": 14,
   "id": "293a90bf",
   "metadata": {},
   "outputs": [
    {
     "name": "stdout",
     "output_type": "stream",
     "text": [
      "1\n",
      "3\n",
      "5\n",
      "7\n",
      "9\n",
      "11\n",
      "13\n",
      "15\n",
      "17\n",
      "19\n",
      "21\n",
      "23\n",
      "25\n"
     ]
    }
   ],
   "source": [
    "# the keywords use to create a function in python is def. you can define function by using the def keyword.\n",
    "\n",
    "\n",
    "def odd(n):\n",
    "    for i in range (1, n+1):\n",
    "        if i % 2 != 0 :\n",
    "            print(i)\n",
    "        \n",
    "odd(25)        "
   ]
  },
  {
   "cell_type": "markdown",
   "id": "490ed324",
   "metadata": {},
   "source": [
    "# Q.2)  why *args and **kwargs in used in some functions? create a function each for *args and **kwars to demostrate their use"
   ]
  },
  {
   "cell_type": "code",
   "execution_count": 34,
   "id": "c8b925ce",
   "metadata": {},
   "outputs": [
    {
     "name": "stdout",
     "output_type": "stream",
     "text": [
      "22\n"
     ]
    }
   ],
   "source": [
    "# args allows for any number of positional arguments, which are collected into a tuple called args.\n",
    "      \n",
    "          \n",
    "def sum_number(*args):\n",
    "        result = 0\n",
    "        for i in args:\n",
    "            result += i\n",
    "        return result\n",
    "        \n",
    "    \n",
    "print(sum_number(1,2,3,4,12))"
   ]
  },
  {
   "cell_type": "code",
   "execution_count": 35,
   "id": "683b2f8e",
   "metadata": {},
   "outputs": [
    {
     "name": "stdout",
     "output_type": "stream",
     "text": [
      " priyankakoyale\n"
     ]
    }
   ],
   "source": [
    "# keyword argument\n",
    "\n",
    "# kwargs allows for any number of keyword argument, which are collected into a dictionary \n",
    "\n",
    "\n",
    "\n",
    "def concatenate_string(**kwargs):\n",
    "    con1 = \" \"\n",
    "    for i in kwargs.values():\n",
    "        con1 += i\n",
    "    return con1\n",
    "\n",
    "\n",
    "print(concatenate_string(a=\"priyanka\", b =\"koyale\"))"
   ]
  },
  {
   "cell_type": "code",
   "execution_count": null,
   "id": "d882b18e",
   "metadata": {},
   "outputs": [],
   "source": []
  },
  {
   "cell_type": "raw",
   "id": "db315862",
   "metadata": {},
   "source": [
    "Q.3) what is python iterator in python? name the method used to initialise the iterator object and the method used for iteration. use \n",
    "these method to print the first five element of the given list[2,4,6,8,1012,14,16,18,20]."
   ]
  },
  {
   "cell_type": "code",
   "execution_count": 25,
   "id": "89a70eb5",
   "metadata": {},
   "outputs": [],
   "source": [
    "# an iterator is an object that allows you to traverse through a collection of value. it provide a way to access each element sequently.\n",
    "# here are the key point.(such as list, tuple,dictionaries."
   ]
  },
  {
   "cell_type": "code",
   "execution_count": 30,
   "id": "8e4a766f",
   "metadata": {},
   "outputs": [
    {
     "name": "stdout",
     "output_type": "stream",
     "text": [
      "G\n",
      "F\n",
      "G\n"
     ]
    }
   ],
   "source": [
    "\n",
    "string = \"GFG\"\n",
    "ch_iterator = iter(string)\n",
    "\n",
    "\n",
    "print(next(ch_iterator))\n",
    "print(next(ch_iterator))\n",
    "print(next(ch_iterator))\n"
   ]
  },
  {
   "cell_type": "code",
   "execution_count": 33,
   "id": "5f5f3fec",
   "metadata": {},
   "outputs": [
    {
     "name": "stdout",
     "output_type": "stream",
     "text": [
      "ex.1\n",
      "2\n",
      "4\n",
      "6\n",
      "8\n",
      "10\n"
     ]
    }
   ],
   "source": [
    "print(\"ex.1\")\n",
    "\n",
    "l1 = [2,4,6,8,10,12,14,16,18,20]\n",
    "my = iter (l1)\n",
    "for i in l1:\n",
    "    if i < l1[5]:\n",
    "        print(i)"
   ]
  },
  {
   "cell_type": "code",
   "execution_count": null,
   "id": "490e9bdb",
   "metadata": {},
   "outputs": [],
   "source": []
  },
  {
   "cell_type": "raw",
   "id": "76ca509a",
   "metadata": {},
   "source": [
    "Q.4) what is generator function in python? why yeild keyword is used? give an examples of a generator function."
   ]
  },
  {
   "cell_type": "code",
   "execution_count": 34,
   "id": "56aba605",
   "metadata": {},
   "outputs": [],
   "source": [
    "# python generator function allow you to declare a function that behave like an iterati=or,allowing programmers to make an\n",
    "#iterate in  afst easy,and clean way. \n",
    "# an iterator is an object that can be iterated or loop upon. \n",
    "# it is used to abstract a container of data to make it behave like an iterable object.\n",
    "#ex. example of  iterable object that are used more commonly include lists,dictionaries\n",
    "\n",
    "\n",
    "# yeild keyword is used to create a generator function. a type of function \n",
    "# that is memory efficient can be used an iterator object."
   ]
  },
  {
   "cell_type": "code",
   "execution_count": 43,
   "id": "c6204b54",
   "metadata": {},
   "outputs": [
    {
     "name": "stdout",
     "output_type": "stream",
     "text": [
      "[0, 1, 1, 2, 3, 5, 8, 13, 21, 34]\n"
     ]
    }
   ],
   "source": [
    "  def fib(n):\n",
    "        a , b = 0,1\n",
    "        for i in range(0,n):\n",
    "            yield a \n",
    "            a, b = b, a+b\n",
    "            \n",
    "print(list(fib(10)))"
   ]
  },
  {
   "cell_type": "raw",
   "id": "6f42b098",
   "metadata": {},
   "source": [
    " Q.5) create a generator function to prime numbers less than 1000. use the next ()\n",
    "    method to print the first 20 prime numbers."
   ]
  },
  {
   "cell_type": "code",
   "execution_count": null,
   "id": "501114ac",
   "metadata": {},
   "outputs": [],
   "source": [
    "def isprime(num):\n",
    "    for i in range(2,num):\n",
    "        if num % i == 0:\n",
    "            return False\n",
    "    return True\n",
    "    \n",
    "    \n",
    "def primeGenerator(n):\n",
    "    num = 2\n",
    "    while n:\n",
    "        if isPrime(num):\n",
    "            yeild num\n",
    "            n -= 1\n",
    "        num += 1\n",
    "    return\n",
    "\n",
    "\n",
    "num = primeGenerator(1000)\n",
    "prime = iter(num)\n",
    "for i in range(0,10):\n",
    "    print(next(prime))"
   ]
  },
  {
   "cell_type": "code",
   "execution_count": null,
   "id": "e0e3a33f",
   "metadata": {},
   "outputs": [],
   "source": [
    "def prime_generator():\n",
    "    def is_prime(num):\n",
    "        if num < 2:\n",
    "            return False\n",
    "        for i in range(2,int(num**0.5)+1):\n",
    "            if num% i==0:\n",
    "                return False\n",
    "            return True\n",
    "        num = 2\n",
    "        while True:\n",
    "            if is_prime(num):\n",
    "                yield num\n",
    "                \n",
    "prime_gen = prime_generator()\n",
    "for_in range(20):\n",
    "    print(next(prime_gen))"
   ]
  },
  {
   "cell_type": "code",
   "execution_count": null,
   "id": "bdaffd36",
   "metadata": {},
   "outputs": [],
   "source": []
  }
 ],
 "metadata": {
  "kernelspec": {
   "display_name": "Python 3 (ipykernel)",
   "language": "python",
   "name": "python3"
  },
  "language_info": {
   "codemirror_mode": {
    "name": "ipython",
    "version": 3
   },
   "file_extension": ".py",
   "mimetype": "text/x-python",
   "name": "python",
   "nbconvert_exporter": "python",
   "pygments_lexer": "ipython3",
   "version": "3.11.5"
  }
 },
 "nbformat": 4,
 "nbformat_minor": 5
}
